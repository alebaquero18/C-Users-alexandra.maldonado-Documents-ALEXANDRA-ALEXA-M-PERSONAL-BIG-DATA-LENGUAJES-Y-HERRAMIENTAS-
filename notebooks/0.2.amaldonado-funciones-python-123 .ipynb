{
 "cells": [
  {
   "cell_type": "markdown",
   "metadata": {},
   "source": [
    "# Funciones en Python"
   ]
  },
  {
   "cell_type": "code",
   "execution_count": 1,
   "metadata": {},
   "outputs": [],
   "source": [
    "# Funcion: f(x, y, z) todo esto son los argumentos de una funcion, la f es el nombre de la funcion.\n",
    "\n",
    "# en python se escribe:\n",
    "def f(x, y, z):\n",
    "    resultado=x+y+z\n",
    "\n",
    "    return resultado\n"
   ]
  },
  {
   "cell_type": "code",
   "execution_count": 2,
   "metadata": {},
   "outputs": [
    {
     "data": {
      "text/plain": [
       "6"
      ]
     },
     "execution_count": 2,
     "metadata": {},
     "output_type": "execute_result"
    }
   ],
   "source": [
    "f(x=5, y=3, z=-2)"
   ]
  },
  {
   "cell_type": "markdown",
   "metadata": {},
   "source": [
    "## Pseudo Codigo"
   ]
  },
  {
   "cell_type": "markdown",
   "metadata": {},
   "source": [
    "* Pipeline (flujo de datos)\n",
    "\n",
    "read_data --> get_summary --> save_data\n",
    "llamadasxxx.csv --> read_data --> get_summary --> save_data --> resumen_llamadasxxx.csv"
   ]
  },
  {
   "cell_type": "markdown",
   "metadata": {},
   "source": [
    "PSEUDO CODIGO\n",
    "def main()\n",
    "    get_data()\n",
    "    get_summary()\n",
    "    save_data"
   ]
  },
  {
   "cell_type": "markdown",
   "metadata": {},
   "source": [
    "MAS DE FUNCIONES"
   ]
  },
  {
   "cell_type": "code",
   "execution_count": 3,
   "metadata": {},
   "outputs": [],
   "source": [
    "# QUIERO UNA FUNCION QUE ME CALCULE:\n",
    "# 1. la suma de todos los numeros de una lista\n",
    "# 2. el minimo valor de la lista\n",
    "# 3. el maximo valor de la lista\n",
    "# 4. la media y la desviacion estandar"
   ]
  },
  {
   "cell_type": "code",
   "execution_count": 4,
   "metadata": {},
   "outputs": [],
   "source": [
    "import numpy as np\n",
    "\n",
    "def calcular_min_max(lista_numeros, verbose=True):\n",
    "    \"\"\"\n",
    "    retorna los valores minimo y maximo d euna lista de numeros \n",
    "    args:\n",
    "        lista_numeros:Type list\n",
    "    \"\"\"\n",
    "    min_value=min(lista_numeros)\n",
    "    max_value=max(lista_numeros)\n",
    "\n",
    "    if verbose == True:\n",
    "        print(\"valor minimo:\", min_value)\n",
    "        print(\"valor maximo:\", max_value)\n",
    "    else:\n",
    "        pass\n",
    "    return min_value, max_value\n",
    "\n",
    "def calcular_valores_centrales(lista_numeros, verbose=True):\n",
    "    \"\"\"calcula la media y la desviacion estandar de numeros\n",
    "\n",
    "    Args:\n",
    "        lista_numeros (list): lista con valores numéricos\n",
    "        verbose (bool, optional): para decidir si imprimir mensajes en pantalla. Defaults to True.\n",
    "\n",
    "    Returns:\n",
    "        Tuple: (media, desviacion estandar)\n",
    "    \"\"\"\n",
    "\n",
    "    media   = np.mean(lista_numeros)\n",
    "    dev_std = np.std(lista_numeros)\n",
    "\n",
    "    if verbose == True:\n",
    "        print(\"Media:\", media)\n",
    "        print(\"Desviacion Estandar:\", dev_std)\n",
    "    else:\n",
    "        pass\n",
    "    return media, dev_std\n",
    "\n",
    "\n",
    "\n",
    "def calcular_valores(lista_numeros, verbose=True):   #del pseudo codigo esta es la funcion main\n",
    "    suma=np.sum=(lista_numeros)\n",
    "    min_val, max_val = calcular_min_max(lista_numeros)\n",
    "    media, dev_std=calcular_valores_centrales(lista_numeros)\n",
    "\n",
    "    return suma, min_val, max_val, media, dev_std"
   ]
  },
  {
   "cell_type": "code",
   "execution_count": 5,
   "metadata": {},
   "outputs": [
    {
     "name": "stdout",
     "output_type": "stream",
     "text": [
      "valor minimo: 4\n",
      "valor maximo: 21\n",
      "Media: 9.4\n",
      "Desviacion Estandar: 6.086049621881176\n"
     ]
    },
    {
     "data": {
      "text/plain": [
       "([5, 4, 8, 9, 21], 4, 21, 9.4, 6.086049621881176)"
      ]
     },
     "execution_count": 5,
     "metadata": {},
     "output_type": "execute_result"
    }
   ],
   "source": [
    "lista_valores=[5, 4, 8, 9, 21]\n",
    "\n",
    "calcular_valores(lista_numeros=lista_valores, verbose=True)"
   ]
  },
  {
   "cell_type": "code",
   "execution_count": null,
   "metadata": {},
   "outputs": [],
   "source": []
  }
 ],
 "metadata": {
  "kernelspec": {
   "display_name": "Python 3.10.7 64-bit",
   "language": "python",
   "name": "python3"
  },
  "language_info": {
   "codemirror_mode": {
    "name": "ipython",
    "version": 3
   },
   "file_extension": ".py",
   "mimetype": "text/x-python",
   "name": "python",
   "nbconvert_exporter": "python",
   "pygments_lexer": "ipython3",
   "version": "3.10.7"
  },
  "orig_nbformat": 4,
  "vscode": {
   "interpreter": {
    "hash": "3387abb8648c08aa7b5710a4fed30543ecd868b577d2fa7f79509b2ca90abb9e"
   }
  }
 },
 "nbformat": 4,
 "nbformat_minor": 2
}
