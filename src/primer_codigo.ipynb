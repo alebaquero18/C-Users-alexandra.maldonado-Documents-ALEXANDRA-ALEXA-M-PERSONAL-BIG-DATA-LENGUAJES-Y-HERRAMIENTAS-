{
 "cells": [
  {
   "cell_type": "code",
   "execution_count": 4,
   "metadata": {},
   "outputs": [
    {
     "name": "stdout",
     "output_type": "stream",
     "text": [
      "hola mundo!!!\n"
     ]
    }
   ],
   "source": [
    "print(\"hola mundo!!!\")"
   ]
  },
  {
   "cell_type": "code",
   "execution_count": 5,
   "metadata": {},
   "outputs": [
    {
     "name": "stdout",
     "output_type": "stream",
     "text": [
      "hola mundo!!!\n"
     ]
    }
   ],
   "source": [
    "frase=\"hola mundo!!!\" # Esto es una variable tipo string (str) cadena de caracteres, palabras, etc.\n",
    "print(frase)"
   ]
  },
  {
   "cell_type": "code",
   "execution_count": 7,
   "metadata": {},
   "outputs": [
    {
     "name": "stdout",
     "output_type": "stream",
     "text": [
      "5roger\n"
     ]
    }
   ],
   "source": [
    "#concatenar stings\n",
    "frase2=\"5\"\n",
    "palabra=\"roger\"\n",
    "\n",
    "palabra_unida=frase2+palabra\n",
    "print(palabra_unida)"
   ]
  },
  {
   "cell_type": "code",
   "execution_count": 10,
   "metadata": {},
   "outputs": [
    {
     "data": {
      "text/plain": [
       "'rogerrogerrogerrogerroger'"
      ]
     },
     "execution_count": 10,
     "metadata": {},
     "output_type": "execute_result"
    }
   ],
   "source": [
    "#multiplicar variables, no se pueden sumar str\n",
    "x=5\n",
    "x*palabra"
   ]
  },
  {
   "cell_type": "code",
   "execution_count": 11,
   "metadata": {},
   "outputs": [
    {
     "data": {
      "text/plain": [
       "int"
      ]
     },
     "execution_count": 11,
     "metadata": {},
     "output_type": "execute_result"
    }
   ],
   "source": [
    "type(x)"
   ]
  },
  {
   "cell_type": "code",
   "execution_count": 12,
   "metadata": {},
   "outputs": [
    {
     "data": {
      "text/plain": [
       "str"
      ]
     },
     "execution_count": 12,
     "metadata": {},
     "output_type": "execute_result"
    }
   ],
   "source": [
    "type(palabra)\n"
   ]
  },
  {
   "cell_type": "markdown",
   "metadata": {},
   "source": [
    "RECONOCER TIPOS DE VARIABLES"
   ]
  },
  {
   "cell_type": "code",
   "execution_count": 13,
   "metadata": {},
   "outputs": [
    {
     "data": {
      "text/plain": [
       "str"
      ]
     },
     "execution_count": 13,
     "metadata": {},
     "output_type": "execute_result"
    }
   ],
   "source": [
    "type(palabra_unida)"
   ]
  },
  {
   "cell_type": "markdown",
   "metadata": {},
   "source": [
    "Tipos de variables: string, int (entero), float (variables de numeros reales 0,5, 13,8), bool (son las variables de verdadero o falso)"
   ]
  },
  {
   "cell_type": "code",
   "execution_count": 18,
   "metadata": {},
   "outputs": [
    {
     "data": {
      "text/plain": [
       "float"
      ]
     },
     "execution_count": 18,
     "metadata": {},
     "output_type": "execute_result"
    }
   ],
   "source": [
    "type(True)\n",
    "type(4.5)"
   ]
  },
  {
   "cell_type": "code",
   "execution_count": 19,
   "metadata": {},
   "outputs": [
    {
     "name": "stdout",
     "output_type": "stream",
     "text": [
      "dato 555\n",
      "dato_sucio 5 5 5 \n"
     ]
    }
   ],
   "source": [
    "dato=\"5\"\n",
    "dato_sucio=\"5 \"\n",
    "\n",
    "print(\"dato\", 3*dato)\n",
    "print(\"dato_sucio\", 3*dato_sucio)"
   ]
  },
  {
   "cell_type": "code",
   "execution_count": 28,
   "metadata": {},
   "outputs": [
    {
     "data": {
      "text/plain": [
       "0.64"
      ]
     },
     "execution_count": 28,
     "metadata": {},
     "output_type": "execute_result"
    }
   ],
   "source": [
    "# numeros\n",
    "x=3.2\n",
    "y=5\n",
    "x+y\n",
    "x/y"
   ]
  },
  {
   "cell_type": "code",
   "execution_count": 27,
   "metadata": {},
   "outputs": [
    {
     "data": {
      "text/plain": [
       "335.5443200000001"
      ]
     },
     "execution_count": 27,
     "metadata": {},
     "output_type": "execute_result"
    }
   ],
   "source": [
    "x**y"
   ]
  },
  {
   "cell_type": "code",
   "execution_count": 30,
   "metadata": {},
   "outputs": [
    {
     "data": {
      "text/plain": [
       "True"
      ]
     },
     "execution_count": 30,
     "metadata": {},
     "output_type": "execute_result"
    }
   ],
   "source": [
    "#variables booleans\n",
    "\n",
    "x=True\n",
    "y=False\n",
    "\n",
    "x or y"
   ]
  },
  {
   "cell_type": "code",
   "execution_count": 32,
   "metadata": {},
   "outputs": [
    {
     "name": "stdout",
     "output_type": "stream",
     "text": [
      "AND False\n",
      "OR True\n"
     ]
    }
   ],
   "source": [
    "print(\"AND\", x and y)\n",
    "print(\"OR\", x or y)"
   ]
  },
  {
   "cell_type": "markdown",
   "metadata": {},
   "source": [
    "LOOPS EN PYTHON"
   ]
  },
  {
   "cell_type": "code",
   "execution_count": 52,
   "metadata": {},
   "outputs": [
    {
     "name": "stdout",
     "output_type": "stream",
     "text": [
      "1 no es divisible por 3\n",
      "2 no es divisible por 3\n",
      "3 no es divisible por 3\n",
      "4 no es divisible por 3\n",
      "5 no es divisible por 3\n",
      "6 no es divisible por 3\n",
      "7 no es divisible por 3\n",
      "8 no es divisible por 3\n",
      "9 no es divisible por 3\n",
      "10 no es divisible por 3\n",
      "11 no es divisible por 3\n",
      "12 no es divisible por 3\n",
      "13 no es divisible por 3\n",
      "14 no es divisible por 3\n",
      "15 no es divisible por 3\n",
      "16 no es divisible por 3\n",
      "17 no es divisible por 3\n",
      "18 no es divisible por 3\n",
      "19 no es divisible por 3\n",
      "20 no es divisible por 3\n",
      "21 no es divisible por 3\n",
      "22 no es divisible por 3\n",
      "23 no es divisible por 3\n",
      "24 no es divisible por 3\n",
      "25 no es divisible por 3\n",
      "26 no es divisible por 3\n",
      "27 no es divisible por 3\n",
      "28 no es divisible por 3\n",
      "29 no es divisible por 3\n",
      "30 no es divisible por 3\n",
      "31 no es divisible por 3\n",
      "32 no es divisible por 3\n",
      "33 no es divisible por 3\n",
      "34 no es divisible por 3\n",
      "35 no es divisible por 3\n",
      "36 no es divisible por 3\n",
      "37 no es divisible por 3\n",
      "38 no es divisible por 3\n",
      "39 no es divisible por 3\n",
      "40 no es divisible por 3\n",
      "41 no es divisible por 3\n",
      "42 no es divisible por 3\n",
      "43 no es divisible por 3\n",
      "44 no es divisible por 3\n",
      "45 no es divisible por 3\n",
      "46 no es divisible por 3\n",
      "47 no es divisible por 3\n",
      "48 no es divisible por 3\n",
      "49 no es divisible por 3\n",
      "50 no es divisible por 3\n"
     ]
    }
   ],
   "source": [
    "for num in range (1, 51):\n",
    "    x = num / 3\n",
    "    if num / 3==0:\n",
    "        print(num)\n",
    "    else:\n",
    "        print(num, \"no es divisible por 3\")\n",
    "        continue"
   ]
  },
  {
   "cell_type": "code",
   "execution_count": null,
   "metadata": {},
   "outputs": [],
   "source": []
  }
 ],
 "metadata": {
  "kernelspec": {
   "display_name": "Python 3.10.7 64-bit",
   "language": "python",
   "name": "python3"
  },
  "language_info": {
   "codemirror_mode": {
    "name": "ipython",
    "version": 3
   },
   "file_extension": ".py",
   "mimetype": "text/x-python",
   "name": "python",
   "nbconvert_exporter": "python",
   "pygments_lexer": "ipython3",
   "version": "3.10.7"
  },
  "orig_nbformat": 4,
  "vscode": {
   "interpreter": {
    "hash": "3387abb8648c08aa7b5710a4fed30543ecd868b577d2fa7f79509b2ca90abb9e"
   }
  }
 },
 "nbformat": 4,
 "nbformat_minor": 2
}
